{
 "cells": [
  {
   "cell_type": "markdown",
   "id": "63664ebf",
   "metadata": {},
   "source": []
  },
  {
   "cell_type": "code",
   "execution_count": 7,
   "id": "b8d13055",
   "metadata": {},
   "outputs": [],
   "source": [
    "import pandas as pd\n",
    "import matplotlib.pyplot as plt\n",
    "import seaborn as sns"
   ]
  },
  {
   "cell_type": "code",
   "execution_count": 8,
   "id": "7a5d58f4",
   "metadata": {},
   "outputs": [],
   "source": [
    "# Chargement des données\n",
    "df = pd.read_csv(\"../data/processed/dpe_clean.csv\")"
   ]
  },
  {
   "cell_type": "markdown",
   "id": "0a348222",
   "metadata": {},
   "source": [
    "<small>\n",
    "\n",
    "#### Étape 1 - Profilage global des données\n",
    "\n",
    "Avant toute analyse, il est important de comprendre la **taille du dataset** (nombre de lignes, colonnes), \n",
    "les **types de variables** (numériques, catégorielles), et la présence éventuelle de **valeurs manquantes**.\n",
    "\n",
    "\n",
    "Nous allons également afficher quelques statistiques descriptives pour les variables numériques.\n"
   ]
  },
  {
   "cell_type": "code",
   "execution_count": 17,
   "id": "f2a1f722",
   "metadata": {},
   "outputs": [
    {
     "data": {
      "text/plain": [
       "Index(['surface_habitable_logement', 'annee_construction',\n",
       "       'periode_construction', 'type_batiment',\n",
       "       'type_energie_principale_chauffage',\n",
       "       'type_generateur_chauffage_principal', 'emission_ges_chauffage',\n",
       "       'emission_ges_ecs', 'emission_ges_eclairage', 'emission_ges_5_usages',\n",
       "       'emission_ges_5_usages_par_m2', 'etiquette_ges', 'code_postal_ban',\n",
       "       'nom_commune_ban'],\n",
       "      dtype='object')"
      ]
     },
     "execution_count": 17,
     "metadata": {},
     "output_type": "execute_result"
    }
   ],
   "source": [
    "df.columns"
   ]
  },
  {
   "cell_type": "code",
   "execution_count": 18,
   "id": "01e95520",
   "metadata": {},
   "outputs": [
    {
     "name": "stdout",
     "output_type": "stream",
     "text": [
      "Shape : (4961, 14)\n",
      "<class 'pandas.core.frame.DataFrame'>\n",
      "RangeIndex: 4961 entries, 0 to 4960\n",
      "Data columns (total 14 columns):\n",
      " #   Column                               Non-Null Count  Dtype  \n",
      "---  ------                               --------------  -----  \n",
      " 0   surface_habitable_logement           4961 non-null   float64\n",
      " 1   annee_construction                   4139 non-null   float64\n",
      " 2   periode_construction                 4961 non-null   object \n",
      " 3   type_batiment                        4961 non-null   object \n",
      " 4   type_energie_principale_chauffage    4961 non-null   object \n",
      " 5   type_generateur_chauffage_principal  4924 non-null   object \n",
      " 6   emission_ges_chauffage               4961 non-null   float64\n",
      " 7   emission_ges_ecs                     4961 non-null   float64\n",
      " 8   emission_ges_eclairage               4961 non-null   float64\n",
      " 9   emission_ges_5_usages                4961 non-null   float64\n",
      " 10  emission_ges_5_usages_par_m2         4961 non-null   float64\n",
      " 11  etiquette_ges                        4961 non-null   object \n",
      " 12  code_postal_ban                      4918 non-null   float64\n",
      " 13  nom_commune_ban                      4918 non-null   object \n",
      "dtypes: float64(8), object(6)\n",
      "memory usage: 542.7+ KB\n",
      "None\n"
     ]
    }
   ],
   "source": [
    "# Dimensions du dataset et info sur les colonnes\n",
    "print(\"Shape :\", df.shape)\n",
    "print(df.info())"
   ]
  },
  {
   "cell_type": "markdown",
   "id": "a48cd8ba",
   "metadata": {},
   "source": []
  }
 ],
 "metadata": {
  "kernelspec": {
   "display_name": ".venv",
   "language": "python",
   "name": "python3"
  },
  "language_info": {
   "codemirror_mode": {
    "name": "ipython",
    "version": 3
   },
   "file_extension": ".py",
   "mimetype": "text/x-python",
   "name": "python",
   "nbconvert_exporter": "python",
   "pygments_lexer": "ipython3",
   "version": "3.12.7"
  }
 },
 "nbformat": 4,
 "nbformat_minor": 5
}
